{
 "cells": [
  {
   "cell_type": "markdown",
   "metadata": {
    "id": "j-l3gabVzlB-"
   },
   "source": [
    "# Programming Assignment\n",
    "\n",
    "## Saving and loading models, with application to the EuroSat dataset\n",
    "\n",
    "### Instructions\n",
    "\n",
    "In this notebook, you will create a neural network that classifies land uses and land covers from satellite imagery. You will save your model using Tensorflow's callbacks and reload it later. You will also load in a pre-trained neural network classifier and compare performance with it. \n",
    "\n",
    "Some code cells are provided for you in the notebook. You should avoid editing provided code, and make sure to execute the cells in order to avoid unexpected errors. Some cells begin with the line: \n",
    "\n",
    "`#### GRADED CELL ####`\n",
    "\n",
    "Don't move or edit this first line - this is what the automatic grader looks for to recognise graded cells. These cells require you to write your own code to complete them, and are automatically graded when you submit the notebook. Don't edit the function name or signature provided in these cells, otherwise the automatic grader might not function properly. Inside these graded cells, you can use any functions or classes that are imported below, but make sure you don't use any variables that are outside the scope of the function.\n",
    "\n",
    "### How to submit\n",
    "\n",
    "Complete all the tasks you are asked for in the worksheet. When you have finished and are happy with your code, press the **Submit Assignment** button at the top of this notebook.\n",
    "\n",
    "### Let's get started!\n",
    "\n",
    "We'll start running some imports, and loading the dataset. Do not edit the existing imports in the following cell. If you would like to make further Tensorflow imports, you should add them here."
   ]
  },
  {
   "cell_type": "code",
   "execution_count": 31,
   "metadata": {
    "id": "TtZFzBJTzlCC"
   },
   "outputs": [],
   "source": [
    "#### PACKAGE IMPORTS ####\n",
    "\n",
    "# Run this cell first to import all required packages. Do not make any imports elsewhere in the notebook\n",
    "\n",
    "import tensorflow as tf\n",
    "from tensorflow.keras.preprocessing.image import load_img, img_to_array\n",
    "from tensorflow.keras.models import Sequential, load_model\n",
    "from tensorflow.keras.layers import Dense, Flatten, Conv2D, MaxPooling2D\n",
    "from tensorflow.keras.callbacks import ModelCheckpoint, EarlyStopping\n",
    "import os\n",
    "import numpy as np\n",
    "import pandas as pd\n",
    "\n",
    "# If you would like to make further imports from tensorflow, add them here\n",
    "from tensorflow.keras.models import Sequential, load_model\n",
    "from tensorflow.keras.layers import Dense, Flatten, Conv2D, MaxPooling2D\n",
    "from tensorflow.keras.callbacks import ModelCheckpoint, EarlyStopping\n"
   ]
  },
  {
   "cell_type": "markdown",
   "metadata": {
    "id": "qUYE18LozlCG"
   },
   "source": [
    "#### The EuroSAT dataset\n",
    "\n",
    "In this assignment, you will use the [EuroSAT dataset](https://github.com/phelber/EuroSAT). It consists of 27000 labelled Sentinel-2 satellite images of different land uses: residential, industrial, highway, river, forest, pasture, herbaceous vegetation, annual crop, permanent crop and sea/lake. For a reference, see the following papers:\n",
    "- Eurosat: A novel dataset and deep learning benchmark for land use and land cover classification. Patrick Helber, Benjamin Bischke, Andreas Dengel, Damian Borth. IEEE Journal of Selected Topics in Applied Earth Observations and Remote Sensing, 2019.\n",
    "- Introducing EuroSAT: A Novel Dataset and Deep Learning Benchmark for Land Use and Land Cover Classification. Patrick Helber, Benjamin Bischke, Andreas Dengel. 2018 IEEE International Geoscience and Remote Sensing Symposium, 2018.\n",
    "\n",
    "Your goal is to construct a neural network that classifies a satellite image into one of these 10 classes, as well as applying some of the saving and loading techniques you have learned in the previous sessions."
   ]
  },
  {
   "cell_type": "markdown",
   "metadata": {
    "id": "jgcHEE-HzlCH"
   },
   "source": [
    "#### Import the data\n",
    "\n",
    "The dataset you will train your model on is a subset of the total data, with 4000 training images and 1000 testing images, with roughly equal numbers of each class. \n",
    "The train and test datasets required for this project can be downloaded from the following links:\n",
    "\n",
    "`x_train`: https://drive.google.com/open?id=1cUaIEd9-MLJHFGjLz5QziNvfBtYygplX\n",
    "\n",
    "`y_train`: https://drive.google.com/open?id=1hv24Ufiio9rBeSqgnNoM3dr5sVGwOmBy\n",
    "\n",
    "`x_test`: https://drive.google.com/open?id=1AH9lKHT5P2oQLz8SGMRPWs_M9wIM2ZRH\n",
    "\n",
    "`y_test`: https://drive.google.com/open?id=1i4_azocSDuU3TcDf3OSHO1vF0D5-xMU6\n",
    "\n",
    "You should store these files in Drive for use in this Colab notebook."
   ]
  },
  {
   "cell_type": "code",
   "execution_count": 23,
   "metadata": {
    "colab": {
     "base_uri": "https://localhost:8080/"
    },
    "id": "vOR1caL86NHI",
    "outputId": "9ce7c585-31ef-420b-d5ec-3f77b04a1676"
   },
   "outputs": [
    {
     "name": "stdout",
     "output_type": "stream",
     "text": [
      "Drive already mounted at /content/gdrive; to attempt to forcibly remount, call drive.mount(\"/content/gdrive\", force_remount=True).\n"
     ]
    }
   ],
   "source": [
    "# Run this cell to connect to your Drive folder\n",
    "\n",
    "from google.colab import drive\n",
    "drive.mount('/content/gdrive')"
   ]
  },
  {
   "cell_type": "code",
   "execution_count": 8,
   "metadata": {
    "id": "EqQfoHd-zlCI"
   },
   "outputs": [],
   "source": [
    "# Import the Eurosat data from your Drive folder\n",
    "\n",
    "def load_eurosat_data():\n",
    "    x_train = np.load('/content/gdrive/MyDrive/Colab Notebooks/data/x_train.npy')\n",
    "    y_train = np.load('/content/gdrive/MyDrive/Colab Notebooks/data/y_train.npy')\n",
    "    x_test  = np.load('/content/gdrive/MyDrive/Colab Notebooks/data/x_test.npy')\n",
    "    y_test  = np.load('/content/gdrive/MyDrive/Colab Notebooks/data/y_test.npy')\n",
    "    return (x_train, y_train), (x_test, y_test)\n",
    "\n",
    "(x_train, y_train), (x_test, y_test) = load_eurosat_data()\n",
    "x_train = x_train / 255.0\n",
    "x_test = x_test / 255.0"
   ]
  },
  {
   "cell_type": "markdown",
   "metadata": {
    "id": "afGjcvB3zlCL"
   },
   "source": [
    "#### Build the neural network model"
   ]
  },
  {
   "cell_type": "markdown",
   "metadata": {
    "id": "Qv0kHsBozlCM"
   },
   "source": [
    "You can now construct a model to fit to the data. Using the Sequential API, build your model according to the following specifications:\n",
    "\n",
    "* The model should use the input_shape in the function argument to set the input size in the first layer.\n",
    "* The first layer should be a Conv2D layer with 16 filters, a 3x3 kernel size, a ReLU activation function and 'SAME' padding. Name this layer 'conv_1'.\n",
    "* The second layer should also be a Conv2D layer with 8 filters, a 3x3 kernel size, a ReLU activation function and 'SAME' padding. Name this layer 'conv_2'.\n",
    "* The third layer should be a MaxPooling2D layer with a pooling window size of 8x8. Name this layer 'pool_1'.\n",
    "* The fourth layer should be a Flatten layer, named 'flatten'.\n",
    "* The fifth layer should be a Dense layer with 32 units, a ReLU activation. Name this layer 'dense_1'.\n",
    "* The sixth and final layer should be a Dense layer with 10 units and softmax activation. Name this layer 'dense_2'.\n",
    "\n",
    "In total, the network should have 6 layers."
   ]
  },
  {
   "cell_type": "code",
   "execution_count": 14,
   "metadata": {
    "id": "H84-I9P5zlCN"
   },
   "outputs": [],
   "source": [
    "#### GRADED CELL ####\n",
    "\n",
    "# Complete the following function. \n",
    "# Make sure to not change the function name or arguments.\n",
    "\n",
    "def get_new_model(input_shape):\n",
    "    \"\"\"\n",
    "    This function should build a Sequential model according to the above specification. Ensure the \n",
    "    weights are initialised by providing the input_shape argument in the first layer, given by the\n",
    "    function argument.\n",
    "    Your function should also compile the model with the Adam optimiser, sparse categorical cross\n",
    "    entropy loss function, and a single accuracy metric.\n",
    "    \"\"\"\n",
    "    model = Sequential([\n",
    "        Conv2D(16, (3, 3), activation='relu', padding='SAME', input_shape=(input_shape), name='conv_1'),\n",
    "        Conv2D(8, (3, 3), activation='relu', padding='SAME', name='conv_2'),\n",
    "        MaxPooling2D((8,8), name='pool_1'),\n",
    "        Flatten(name='flatten'),\n",
    "        Dense(32, activation='relu', name='dense_1'),\n",
    "        Dense(10, activation='softmax', name='dense_2')\n",
    "    ])\n",
    "\n",
    "    model.compile(optimizer='adam',\n",
    "                  loss='sparse_categorical_crossentropy',\n",
    "                  metrics=['accuracy'])\n",
    "\n",
    "    return model\n",
    "    \n",
    "    "
   ]
  },
  {
   "cell_type": "markdown",
   "metadata": {
    "id": "tx6dXvwOzlCQ"
   },
   "source": [
    "#### Compile and evaluate the model"
   ]
  },
  {
   "cell_type": "code",
   "execution_count": 15,
   "metadata": {
    "id": "5BHOQzT5zlCR"
   },
   "outputs": [],
   "source": [
    "# Run your function to create the model\n",
    "\n",
    "model = get_new_model(x_train[0].shape)"
   ]
  },
  {
   "cell_type": "code",
   "execution_count": 16,
   "metadata": {
    "id": "--aE05n8zlCV"
   },
   "outputs": [],
   "source": [
    "# Run this cell to define a function to evaluate a model's test accuracy\n",
    "\n",
    "def get_test_accuracy(model, x_test, y_test):\n",
    "    \"\"\"Test model classification accuracy\"\"\"\n",
    "    test_loss, test_acc = model.evaluate(x=x_test, y=y_test, verbose=0)\n",
    "    print('accuracy: {acc:0.3f}'.format(acc=test_acc))"
   ]
  },
  {
   "cell_type": "code",
   "execution_count": 17,
   "metadata": {
    "colab": {
     "base_uri": "https://localhost:8080/"
    },
    "id": "4ezcwMrNzlCd",
    "outputId": "06d313fa-bd35-4e2c-edf0-62084eb32877"
   },
   "outputs": [
    {
     "name": "stdout",
     "output_type": "stream",
     "text": [
      "Model: \"sequential_1\"\n",
      "_________________________________________________________________\n",
      " Layer (type)                Output Shape              Param #   \n",
      "=================================================================\n",
      " conv_1 (Conv2D)             (None, 64, 64, 16)        448       \n",
      "                                                                 \n",
      " conv_2 (Conv2D)             (None, 64, 64, 8)         1160      \n",
      "                                                                 \n",
      " pool_1 (MaxPooling2D)       (None, 8, 8, 8)           0         \n",
      "                                                                 \n",
      " flatten (Flatten)           (None, 512)               0         \n",
      "                                                                 \n",
      " dense_1 (Dense)             (None, 32)                16416     \n",
      "                                                                 \n",
      " dense_2 (Dense)             (None, 10)                330       \n",
      "                                                                 \n",
      "=================================================================\n",
      "Total params: 18,354\n",
      "Trainable params: 18,354\n",
      "Non-trainable params: 0\n",
      "_________________________________________________________________\n",
      "accuracy: 0.161\n"
     ]
    }
   ],
   "source": [
    "# Print the model summary and calculate its initialised test accuracy\n",
    "\n",
    "model.summary()\n",
    "get_test_accuracy(model, x_test, y_test)"
   ]
  },
  {
   "cell_type": "markdown",
   "metadata": {
    "id": "pfIdxbQWzlCg"
   },
   "source": [
    "#### Create checkpoints to save model during training, with a criterion\n",
    "\n",
    "You will now create three callbacks:\n",
    "- `checkpoint_every_epoch`: checkpoint that saves the model weights every epoch during training\n",
    "- `checkpoint_best_only`: checkpoint that saves only the weights with the highest validation accuracy. Use the testing data as the validation data.\n",
    "- `early_stopping`: early stopping object that ends training if the validation accuracy has not improved in 3 epochs."
   ]
  },
  {
   "cell_type": "code",
   "execution_count": 45,
   "metadata": {
    "id": "ccQU2HMGzlCh"
   },
   "outputs": [],
   "source": [
    "#### GRADED CELL ####\n",
    "\n",
    "# Complete the following functions. \n",
    "# Make sure to not change the function names or arguments.\n",
    "\n",
    "def get_checkpoint_every_epoch():\n",
    "    \"\"\"\n",
    "    This function should return a ModelCheckpoint object that:\n",
    "    - saves the weights only at the end of every epoch\n",
    "    - saves into a directory called 'checkpoints_every_epoch' inside the current working directory\n",
    "    - generates filenames in that directory like 'checkpoint_XXX' where\n",
    "      XXX is the epoch number formatted to have three digits, e.g. 001, 002, 003, etc.\n",
    "    \"\"\"\n",
    "    checkpoint = ModelCheckpoint('checkpoints_every_epoch/checkpoint_{epoch:03d}', save_freq='epoch', save_weights_only=True)\n",
    "    \n",
    "    return checkpoint\n",
    "\n",
    "\n",
    "def get_checkpoint_best_only():\n",
    "    \"\"\"\n",
    "    This function should return a ModelCheckpoint object that:\n",
    "    - saves only the weights that generate the highest validation (testing) accuracy\n",
    "    - saves into a directory called 'checkpoints_best_only' inside the current working directory\n",
    "    - generates a file called 'checkpoints_best_only/checkpoint' \n",
    "    \"\"\"\n",
    "    checkpoint = ModelCheckpoint('checkpoints_best_only/checkpoint', \n",
    "                                 save_weights_only=True,\n",
    "                                 monitor='val_accuracy',\n",
    "                                 save_best_only=True)\n",
    "\n",
    "    return checkpoint\n",
    "    \n",
    "    "
   ]
  },
  {
   "cell_type": "code",
   "execution_count": 46,
   "metadata": {
    "id": "RjYKmcXMzlCj"
   },
   "outputs": [],
   "source": [
    "#### GRADED CELL ####\n",
    "\n",
    "# Complete the following function. \n",
    "# Make sure to not change the function name or arguments.\n",
    "\n",
    "def get_early_stopping():\n",
    "    \"\"\"\n",
    "    This function should return an EarlyStopping callback that stops training when\n",
    "    the validation (testing) accuracy has not improved in the last 3 epochs.\n",
    "    HINT: use the EarlyStopping callback with the correct 'monitor' and 'patience'\n",
    "    \"\"\"\n",
    "    callback = EarlyStopping(patience=3, monitor='val_accuracy')\n",
    "\n",
    "    return callback\n",
    "    \n",
    "    "
   ]
  },
  {
   "cell_type": "code",
   "execution_count": 47,
   "metadata": {
    "id": "jplngS9izlCn"
   },
   "outputs": [],
   "source": [
    "# Run this cell to create the callbacks\n",
    "\n",
    "checkpoint_every_epoch = get_checkpoint_every_epoch()\n",
    "checkpoint_best_only = get_checkpoint_best_only()\n",
    "early_stopping = get_early_stopping()"
   ]
  },
  {
   "cell_type": "markdown",
   "metadata": {
    "id": "m8DdH7hdzlCp"
   },
   "source": [
    "#### Train model using the callbacks\n",
    "\n",
    "Now, you will train the model using the three callbacks you created. If you created the callbacks correctly, three things should happen:\n",
    "- At the end of every epoch, the model weights are saved into a directory called `checkpoints_every_epoch`\n",
    "- At the end of every epoch, the model weights are saved into a directory called `checkpoints_best_only` **only** if those weights lead to the highest test accuracy\n",
    "- Training stops when the testing accuracy has not improved in three epochs.\n",
    "\n",
    "You should then have two directories:\n",
    "- A directory called `checkpoints_every_epoch` containing filenames that include `checkpoint_001`, `checkpoint_002`, etc with the `001`, `002` corresponding to the epoch\n",
    "- A directory called `checkpoints_best_only` containing filenames that include `checkpoint`, which contain only the weights leading to the highest testing accuracy"
   ]
  },
  {
   "cell_type": "code",
   "execution_count": 48,
   "metadata": {
    "colab": {
     "base_uri": "https://localhost:8080/"
    },
    "id": "IG329dBszlCq",
    "outputId": "ee9eb871-c13e-4d07-b157-77990663bd02"
   },
   "outputs": [
    {
     "name": "stdout",
     "output_type": "stream",
     "text": [
      "Epoch 1/50\n",
      "125/125 [==============================] - 1s 7ms/step - loss: 0.5985 - accuracy: 0.7865 - val_loss: 0.8532 - val_accuracy: 0.6960\n",
      "Epoch 2/50\n",
      "125/125 [==============================] - 1s 6ms/step - loss: 0.6115 - accuracy: 0.7720 - val_loss: 0.7796 - val_accuracy: 0.7180\n",
      "Epoch 3/50\n",
      "125/125 [==============================] - 1s 6ms/step - loss: 0.5870 - accuracy: 0.7857 - val_loss: 0.9196 - val_accuracy: 0.6690\n",
      "Epoch 4/50\n",
      "125/125 [==============================] - 1s 6ms/step - loss: 0.5645 - accuracy: 0.7905 - val_loss: 0.9530 - val_accuracy: 0.6780\n",
      "Epoch 5/50\n",
      "125/125 [==============================] - 1s 6ms/step - loss: 0.5624 - accuracy: 0.7952 - val_loss: 0.7990 - val_accuracy: 0.7110\n"
     ]
    },
    {
     "data": {
      "text/plain": [
       "<keras.callbacks.History at 0x7fc1c6113bd0>"
      ]
     },
     "execution_count": 48,
     "metadata": {},
     "output_type": "execute_result"
    }
   ],
   "source": [
    "# Train model using the callbacks you just created\n",
    "\n",
    "callbacks = [checkpoint_every_epoch, checkpoint_best_only, early_stopping]\n",
    "model.fit(x_train, y_train, epochs=50, validation_data=(x_test, y_test), callbacks=callbacks)"
   ]
  },
  {
   "cell_type": "markdown",
   "metadata": {
    "id": "tKEb0lQ9zlCt"
   },
   "source": [
    "#### Create new instance of model and load on both sets of weights\n",
    "\n",
    "Now you will use the weights you just saved in a fresh model. You should create two functions, both of which take a freshly instantiated model instance:\n",
    "- `model_last_epoch` should contain the weights from the latest saved epoch\n",
    "- `model_best_epoch` should contain the weights from the saved epoch with the highest testing accuracy\n",
    "\n",
    "_Hint: use the_ `tf.train.latest_checkpoint` _function to get the filename of the latest saved checkpoint file. Check the docs_ [_here_](https://www.tensorflow.org/api_docs/python/tf/train/latest_checkpoint)."
   ]
  },
  {
   "cell_type": "code",
   "execution_count": 35,
   "metadata": {
    "colab": {
     "base_uri": "https://localhost:8080/"
    },
    "id": "FRIWP-Jxi6wy",
    "outputId": "6b9710b6-8c3f-4e39-8dda-4786a5ca14f4"
   },
   "outputs": [
    {
     "name": "stdout",
     "output_type": "stream",
     "text": [
      "Drive already mounted at /content/drive; to attempt to forcibly remount, call drive.mount(\"/content/drive\", force_remount=True).\n",
      "ls: cannot access 'gdrive': Transport endpoint is not connected\n",
      "total 5.3M\n",
      "drwxr-xr-x 1 root root 4.0K Jun 14 19:02 .\n",
      "drwxr-xr-x 1 root root 4.0K Jun 14 18:20 ..\n",
      "-rw-r--r-- 1 root root   83 Jun 14 18:51 checkpoint\n",
      "-rw-r--r-- 1 root root 219K Jun 14 18:51 checkpoint_01.data-00000-of-00001\n",
      "-rw-r--r-- 1 root root 2.0K Jun 14 18:51 checkpoint_01.index\n",
      "-rw-r--r-- 1 root root 219K Jun 14 18:51 checkpoint_02.data-00000-of-00001\n",
      "-rw-r--r-- 1 root root 2.0K Jun 14 18:51 checkpoint_02.index\n",
      "-rw-r--r-- 1 root root 219K Jun 14 18:51 checkpoint_03.data-00000-of-00001\n",
      "-rw-r--r-- 1 root root 2.0K Jun 14 18:51 checkpoint_03.index\n",
      "-rw-r--r-- 1 root root 219K Jun 14 18:51 checkpoint_04.data-00000-of-00001\n",
      "-rw-r--r-- 1 root root 2.0K Jun 14 18:51 checkpoint_04.index\n",
      "-rw-r--r-- 1 root root 219K Jun 14 18:51 checkpoint_05.data-00000-of-00001\n",
      "-rw-r--r-- 1 root root 2.0K Jun 14 18:51 checkpoint_05.index\n",
      "-rw-r--r-- 1 root root 219K Jun 14 18:51 checkpoint_06.data-00000-of-00001\n",
      "-rw-r--r-- 1 root root 2.0K Jun 14 18:51 checkpoint_06.index\n",
      "-rw-r--r-- 1 root root 219K Jun 14 18:51 checkpoint_07.data-00000-of-00001\n",
      "-rw-r--r-- 1 root root 2.0K Jun 14 18:51 checkpoint_07.index\n",
      "-rw-r--r-- 1 root root 219K Jun 14 18:51 checkpoint_08.data-00000-of-00001\n",
      "-rw-r--r-- 1 root root 2.0K Jun 14 18:51 checkpoint_08.index\n",
      "-rw-r--r-- 1 root root 219K Jun 14 18:51 checkpoint_09.data-00000-of-00001\n",
      "-rw-r--r-- 1 root root 2.0K Jun 14 18:51 checkpoint_09.index\n",
      "-rw-r--r-- 1 root root 219K Jun 14 18:44 checkpoint_10.000000.data-00000-of-00001\n",
      "-rw-r--r-- 1 root root 2.0K Jun 14 18:44 checkpoint_10.000000.index\n",
      "-rw-r--r-- 1 root root 219K Jun 14 18:44 checkpoint_1.000000.data-00000-of-00001\n",
      "-rw-r--r-- 1 root root 2.0K Jun 14 18:44 checkpoint_1.000000.index\n",
      "-rw-r--r-- 1 root root 219K Jun 14 18:51 checkpoint_10.data-00000-of-00001\n",
      "-rw-r--r-- 1 root root 2.0K Jun 14 18:51 checkpoint_10.index\n",
      "-rw-r--r-- 1 root root 219K Jun 14 18:44 checkpoint_11.000000.data-00000-of-00001\n",
      "-rw-r--r-- 1 root root 2.0K Jun 14 18:44 checkpoint_11.000000.index\n",
      "-rw-r--r-- 1 root root 219K Jun 14 18:51 checkpoint_11.data-00000-of-00001\n",
      "-rw-r--r-- 1 root root 2.0K Jun 14 18:51 checkpoint_11.index\n",
      "-rw-r--r-- 1 root root 219K Jun 14 18:45 checkpoint_12.000000.data-00000-of-00001\n",
      "-rw-r--r-- 1 root root 2.0K Jun 14 18:45 checkpoint_12.000000.index\n",
      "-rw-r--r-- 1 root root 219K Jun 14 18:45 checkpoint_13.000000.data-00000-of-00001\n",
      "-rw-r--r-- 1 root root 2.0K Jun 14 18:45 checkpoint_13.000000.index\n",
      "-rw-r--r-- 1 root root 219K Jun 14 18:44 checkpoint_2.000000.data-00000-of-00001\n",
      "-rw-r--r-- 1 root root 2.0K Jun 14 18:44 checkpoint_2.000000.index\n",
      "-rw-r--r-- 1 root root 219K Jun 14 18:44 checkpoint_3.000000.data-00000-of-00001\n",
      "-rw-r--r-- 1 root root 2.0K Jun 14 18:44 checkpoint_3.000000.index\n",
      "-rw-r--r-- 1 root root 219K Jun 14 18:44 checkpoint_4.000000.data-00000-of-00001\n",
      "-rw-r--r-- 1 root root 2.0K Jun 14 18:44 checkpoint_4.000000.index\n",
      "-rw-r--r-- 1 root root 219K Jun 14 18:44 checkpoint_5.000000.data-00000-of-00001\n",
      "-rw-r--r-- 1 root root 2.0K Jun 14 18:44 checkpoint_5.000000.index\n",
      "-rw-r--r-- 1 root root 219K Jun 14 18:44 checkpoint_6.000000.data-00000-of-00001\n",
      "-rw-r--r-- 1 root root 2.0K Jun 14 18:44 checkpoint_6.000000.index\n",
      "-rw-r--r-- 1 root root 219K Jun 14 18:44 checkpoint_7.000000.data-00000-of-00001\n",
      "-rw-r--r-- 1 root root 2.0K Jun 14 18:44 checkpoint_7.000000.index\n",
      "-rw-r--r-- 1 root root 219K Jun 14 18:44 checkpoint_8.000000.data-00000-of-00001\n",
      "-rw-r--r-- 1 root root 2.0K Jun 14 18:44 checkpoint_8.000000.index\n",
      "-rw-r--r-- 1 root root 219K Jun 14 18:44 checkpoint_9.000000.data-00000-of-00001\n",
      "-rw-r--r-- 1 root root 2.0K Jun 14 18:44 checkpoint_9.000000.index\n",
      "drwxr-xr-x 2 root root 4.0K Jun 14 18:51 checkpoints_best_only\n",
      "drwxr-xr-x 4 root root 4.0K Jun  1 13:49 .config\n",
      "drwxr-xr-x 2 root root 4.0K Jun 14 18:23 data\n",
      "drwx------ 6 root root 4.0K Jun 14 19:00 drive\n",
      "d????????? ? ?    ?       ?            ? gdrive\n",
      "drwxr-xr-x 2 root root 4.0K Jun 14 18:23 .ipynb_checkpoints\n",
      "drwxr-xr-x 2 root root 4.0K Jun 14 19:03 models\n",
      "drwxr-xr-x 1 root root 4.0K Jun  1 13:50 sample_data\n"
     ]
    }
   ],
   "source": [
    "from google.colab import drive\n",
    "drive.mount('/content/drive')\n",
    "!ls -lah"
   ]
  },
  {
   "cell_type": "code",
   "execution_count": 57,
   "metadata": {
    "id": "nokhxEntzlCu"
   },
   "outputs": [],
   "source": [
    "#### GRADED CELL ####\n",
    "\n",
    "# Complete the following functions. \n",
    "# Make sure to not change the function name or arguments.\n",
    "\n",
    "def get_model_last_epoch(model):\n",
    "    \"\"\"\n",
    "    This function should create a new instance of the CNN you created earlier,\n",
    "    load on the weights from the last training epoch, and return this model.\n",
    "    \"\"\"\n",
    "    model.load_weights(tf.train.latest_checkpoint('checkpoints_every_epoch'))\n",
    "    \n",
    "    return model\n",
    "    \n",
    "    \n",
    "def get_model_best_epoch(model):\n",
    "    \"\"\"\n",
    "    This function should create a new instance of the CNN you created earlier, load \n",
    "    on the weights leading to the highest validation accuracy, and return this model.\n",
    "    \"\"\"\n",
    "\n",
    "    model.load_weights('checkpoints_best_only/checkpoint')\n",
    "\n",
    "    return model\n",
    "    \n",
    "    "
   ]
  },
  {
   "cell_type": "code",
   "execution_count": 58,
   "metadata": {
    "colab": {
     "base_uri": "https://localhost:8080/"
    },
    "id": "N0BEAOZYzlCx",
    "outputId": "48840370-3ce2-4b18-90f9-a52341436d60"
   },
   "outputs": [
    {
     "name": "stdout",
     "output_type": "stream",
     "text": [
      "Model with last epoch weights:\n",
      "accuracy: 0.711\n",
      "\n",
      "Model with best epoch weights:\n",
      "accuracy: 0.718\n"
     ]
    }
   ],
   "source": [
    "# Run this cell to create two models: one with the weights from the last training\n",
    "# epoch, and one wiht the weights leading to the highest validation (testing) accuracy.\n",
    "# Verify that the second has a higher validation (testing) accuarcy.\n",
    "\n",
    "model_last_epoch = get_model_last_epoch(get_new_model(x_train[0].shape))\n",
    "model_best_epoch = get_model_best_epoch(get_new_model(x_train[0].shape))\n",
    "print('Model with last epoch weights:')\n",
    "get_test_accuracy(model_last_epoch, x_test, y_test)\n",
    "print('')\n",
    "print('Model with best epoch weights:')\n",
    "get_test_accuracy(model_best_epoch, x_test, y_test)"
   ]
  },
  {
   "cell_type": "markdown",
   "metadata": {
    "id": "5AESpayizlC1"
   },
   "source": [
    "#### Load, from scratch, a model trained on the EuroSat dataset.\n",
    "\n",
    "In your workspace, you will find another model trained on the `EuroSAT` dataset in `.h5` format. This model is trained on a larger subset of the EuroSAT dataset and has a more complex architecture. The path to the model is `models/EuroSatNet.h5`. See how its testing accuracy compares to your model!"
   ]
  },
  {
   "cell_type": "code",
   "execution_count": 37,
   "metadata": {
    "id": "KiUKJYebzlC2"
   },
   "outputs": [],
   "source": [
    "#### GRADED CELL ####\n",
    "\n",
    "# Complete the following functions. \n",
    "# Make sure to not change the function name or arguments.\n",
    "\n",
    "def get_model_eurosatnet():\n",
    "    \"\"\"\n",
    "    This function should return the pretrained EuroSatNet.h5 model.\n",
    "    \"\"\"\n",
    "    model = load_model('models/EuroSatNet.h5')\n",
    "\n",
    "    return model\n",
    "    \n",
    "    "
   ]
  },
  {
   "cell_type": "code",
   "execution_count": 38,
   "metadata": {
    "colab": {
     "base_uri": "https://localhost:8080/"
    },
    "id": "EEzAQ3yRzlC6",
    "outputId": "eb493e7a-07bb-4022-9ed6-46f45a25210c"
   },
   "outputs": [
    {
     "name": "stdout",
     "output_type": "stream",
     "text": [
      "Model: \"sequential_21\"\n",
      "_________________________________________________________________\n",
      " Layer (type)                Output Shape              Param #   \n",
      "=================================================================\n",
      " conv_1 (Conv2D)             (None, 64, 64, 16)        448       \n",
      "                                                                 \n",
      " conv_2 (Conv2D)             (None, 64, 64, 16)        6416      \n",
      "                                                                 \n",
      " pool_1 (MaxPooling2D)       (None, 32, 32, 16)        0         \n",
      "                                                                 \n",
      " conv_3 (Conv2D)             (None, 32, 32, 16)        2320      \n",
      "                                                                 \n",
      " conv_4 (Conv2D)             (None, 32, 32, 16)        6416      \n",
      "                                                                 \n",
      " pool_2 (MaxPooling2D)       (None, 16, 16, 16)        0         \n",
      "                                                                 \n",
      " conv_5 (Conv2D)             (None, 16, 16, 16)        2320      \n",
      "                                                                 \n",
      " conv_6 (Conv2D)             (None, 16, 16, 16)        6416      \n",
      "                                                                 \n",
      " pool_3 (MaxPooling2D)       (None, 8, 8, 16)          0         \n",
      "                                                                 \n",
      " conv_7 (Conv2D)             (None, 8, 8, 16)          2320      \n",
      "                                                                 \n",
      " conv_8 (Conv2D)             (None, 8, 8, 16)          6416      \n",
      "                                                                 \n",
      " pool_4 (MaxPooling2D)       (None, 4, 4, 16)          0         \n",
      "                                                                 \n",
      " flatten (Flatten)           (None, 256)               0         \n",
      "                                                                 \n",
      " dense_1 (Dense)             (None, 32)                8224      \n",
      "                                                                 \n",
      " dense_2 (Dense)             (None, 10)                330       \n",
      "                                                                 \n",
      "=================================================================\n",
      "Total params: 41,626\n",
      "Trainable params: 41,626\n",
      "Non-trainable params: 0\n",
      "_________________________________________________________________\n",
      "accuracy: 0.080\n"
     ]
    }
   ],
   "source": [
    "# Run this cell to print a summary of the EuroSatNet model, along with its validation accuracy.\n",
    "\n",
    "model_eurosatnet = get_model_eurosatnet()\n",
    "model_eurosatnet.summary()\n",
    "get_test_accuracy(model_eurosatnet, x_test, y_test)"
   ]
  },
  {
   "cell_type": "markdown",
   "metadata": {
    "id": "P9vIBFVWzlC-"
   },
   "source": [
    "Congratulations for completing this programming assignment! You're now ready to move on to the capstone project for this course."
   ]
  }
 ],
 "metadata": {
  "accelerator": "GPU",
  "colab": {
   "collapsed_sections": [],
   "name": "week4_Programming Assignment.ipynb",
   "provenance": []
  },
  "coursera": {
   "course_slug": "tensor-flow-2-1",
   "graded_item_id": "JaRY0",
   "launcher_item_id": "mJ8fg"
  },
  "gpuClass": "standard",
  "kernelspec": {
   "display_name": "Python 3 (ipykernel)",
   "language": "python",
   "name": "python3"
  },
  "language_info": {
   "codemirror_mode": {
    "name": "ipython",
    "version": 3
   },
   "file_extension": ".py",
   "mimetype": "text/x-python",
   "name": "python",
   "nbconvert_exporter": "python",
   "pygments_lexer": "ipython3",
   "version": "3.9.6"
  }
 },
 "nbformat": 4,
 "nbformat_minor": 1
}
