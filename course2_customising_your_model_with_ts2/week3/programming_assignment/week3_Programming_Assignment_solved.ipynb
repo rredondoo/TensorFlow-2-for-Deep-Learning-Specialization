{
 "cells": [
  {
   "cell_type": "markdown",
   "metadata": {
    "id": "wJQu9UWtRfRx"
   },
   "source": [
    "# Programming Assignment"
   ]
  },
  {
   "cell_type": "markdown",
   "metadata": {
    "id": "pFRRArflRfR1"
   },
   "source": [
    "## Language model for the Shakespeare dataset"
   ]
  },
  {
   "cell_type": "markdown",
   "metadata": {
    "id": "iPU9O33bRfR3"
   },
   "source": [
    "### Instructions\n",
    "\n",
    "In this notebook, you will use the text preprocessing tools and RNN models to build a character-level language model. You will then train your model on the works of Shakespeare, and use the network to generate your own text.\n",
    "\n",
    "Some code cells are provided you in the notebook. You should avoid editing provided code, and make sure to execute the cells in order to avoid unexpected errors. Some cells begin with the line: \n",
    "\n",
    "`#### GRADED CELL ####`\n",
    "\n",
    "Don't move or edit this first line - this is what the automatic grader looks for to recognise graded cells. These cells require you to write your own code to complete them, and are automatically graded when you submit the notebook. Don't edit the function name or signature provided in these cells, otherwise the automatic grader might not function properly. Inside these graded cells, you can use any functions or classes that are imported below, but make sure you don't use any variables that are outside the scope of the function.\n",
    "\n",
    "### How to submit\n",
    "\n",
    "Complete all the tasks you are asked for in the worksheet. When you have finished and are happy with your code, press the **Submit Assignment** button at the top of this notebook.\n",
    "\n",
    "### Let's get started!\n",
    "\n",
    "We'll start running some imports, and loading the dataset. Do not edit the existing imports in the following cell. If you would like to make further Tensorflow imports, you should add them here."
   ]
  },
  {
   "cell_type": "code",
   "execution_count": 2,
   "metadata": {
    "id": "2j_QtDXtRfR4"
   },
   "outputs": [],
   "source": [
    "#### PACKAGE IMPORTS ####\n",
    "\n",
    "# Run this cell first to import all required packages. Do not make any imports elsewhere in the notebook\n",
    "\n",
    "import tensorflow as tf\n",
    "import numpy as np\n",
    "import json\n",
    "import matplotlib.pyplot as plt\n",
    "%matplotlib inline\n",
    "\n",
    "# If you would like to make further imports from tensorflow, add them here\n",
    "\n"
   ]
  },
  {
   "cell_type": "markdown",
   "metadata": {
    "id": "r3wpZrx7RfR-"
   },
   "source": [
    "#### The Shakespeare dataset\n",
    "\n",
    "In this assignment, you will use a subset of the [Shakespeare dataset](http://shakespeare.mit.edu). It consists of a single text file with several excerpts concatenated together. The data is in raw text form, and so far has not yet had any preprocessing. \n",
    "\n",
    "Your goal is to construct an unsupervised character-level sequence model that can generate text according to a distribution learned from the dataset."
   ]
  },
  {
   "cell_type": "markdown",
   "metadata": {
    "id": "2XZu3DSPRkE4"
   },
   "source": [
    "#### Import the data\n",
    "\n",
    "The dataset required for this project can be downloaded from the following link:\n",
    "\n",
    "https://drive.google.com/open?id=1pQI1ryDnuMKl5FtgBI9k9vXQ65S8xLv2\n",
    "\n",
    "You should store this file in Drive for use in this Colab notebook."
   ]
  },
  {
   "cell_type": "code",
   "execution_count": 3,
   "metadata": {
    "colab": {
     "base_uri": "https://localhost:8080/"
    },
    "id": "3fRagWNBR0-E",
    "outputId": "826d409a-5ca6-40f1-b80b-d4a98929f6e4"
   },
   "outputs": [
    {
     "name": "stdout",
     "output_type": "stream",
     "text": [
      "Drive already mounted at /content/gdrive; to attempt to forcibly remount, call drive.mount(\"/content/gdrive\", force_remount=True).\n"
     ]
    }
   ],
   "source": [
    "# Run this cell to connect to your Drive folder\n",
    "\n",
    "from google.colab import drive\n",
    "drive.mount('/content/gdrive')"
   ]
  },
  {
   "cell_type": "markdown",
   "metadata": {
    "id": "ppOL7TDHRfSA"
   },
   "source": [
    "#### Load and inspect the dataset"
   ]
  },
  {
   "cell_type": "code",
   "execution_count": 4,
   "metadata": {
    "id": "XXwzWcB-RfSD"
   },
   "outputs": [],
   "source": [
    "# Load the text file into a string\n",
    "\n",
    "with open('Shakespeare.txt', 'r', encoding='utf-8') as file:\n",
    "    text = file.read()"
   ]
  },
  {
   "cell_type": "code",
   "execution_count": 5,
   "metadata": {
    "id": "YzHw4wbCRfSH"
   },
   "outputs": [],
   "source": [
    "# Create a list of chunks of text\n",
    "\n",
    "text_chunks = text.split('.')"
   ]
  },
  {
   "cell_type": "markdown",
   "metadata": {
    "id": "pik73Zq2RfSO"
   },
   "source": [
    "To give you a feel for what the text looks like, we will print a few chunks from the list."
   ]
  },
  {
   "cell_type": "code",
   "execution_count": 6,
   "metadata": {
    "colab": {
     "base_uri": "https://localhost:8080/"
    },
    "id": "CMZj2MIYRfSP",
    "outputId": "b5321ce5-e81e-4690-b1a3-af135f125809"
   },
   "outputs": [
    {
     "name": "stdout",
     "output_type": "stream",
     "text": [
      "\n",
      "\n",
      "DION:\n",
      "The violent carriage of it\n",
      "Will clear or end the business: when the oracle,\n",
      "Thus by Apollo's great divine seal'd up,\n",
      "Shall the contents discover, something rare\n",
      "Even then will rush to knowledge\n",
      "\n",
      "\n",
      "KING RICHARD III:\n",
      "Your reasons are too shallow and too quick\n",
      "\n",
      "Such a mad marriage never was before:\n",
      "Hark, hark! I hear the minstrels play\n",
      "\n",
      "\n",
      "TRANIO:\n",
      "What is he, Biondello?\n",
      "\n",
      "BIONDELLO:\n",
      "Master, a mercatante, or a pedant,\n",
      "I know not what; but format in apparel,\n",
      "In gait and countenance surely like a father\n",
      "\n",
      "\n",
      "HERMIONE:\n",
      "You gods, look down\n",
      "And from your sacred vials pour your graces\n",
      "Upon my daughter's head! Tell me, mine own\n"
     ]
    }
   ],
   "source": [
    "# Display some randomly selected text samples\n",
    "\n",
    "num_samples = 5\n",
    "inx = np.random.choice(len(text_chunks), num_samples, replace=False)\n",
    "for chunk in np.array(text_chunks)[inx]:\n",
    "    print(chunk)"
   ]
  },
  {
   "cell_type": "markdown",
   "metadata": {
    "id": "QSxfAsFARfSX"
   },
   "source": [
    "#### Create a character-level tokenizer"
   ]
  },
  {
   "cell_type": "markdown",
   "metadata": {
    "id": "SBukx3SDRfSY"
   },
   "source": [
    "You should now write a function that returns a `Tokenizer` object. The function takes a list of strings as an argument, and should create a `Tokenizer` according to the following specification:\n",
    "\n",
    "* The number of tokens should be unlimited (there should be as many as required by the dataset).\n",
    "* Tokens should be created at the character level (not at the word level, which is the default behaviour).\n",
    "* No characters should be filtered out or ignored.\n",
    "* The original capitalization should be retained (do not convert the text to lower case)\n",
    "\n",
    "The `Tokenizer` should be fit to the `list_of_strings` argument and returned by the function. \n",
    "\n",
    "**Hint:** you may need to refer to the [documentation](https://www.tensorflow.org/api_docs/python/tf/keras/preprocessing/text/Tokenizer) for the `Tokenizer`."
   ]
  },
  {
   "cell_type": "code",
   "execution_count": 7,
   "metadata": {
    "id": "Q8s2aR4oRfSb"
   },
   "outputs": [],
   "source": [
    "#### GRADED CELL ####\n",
    "\n",
    "# Complete the following function.\n",
    "# Make sure not to change the function name or arguments.\n",
    "from tensorflow.keras.preprocessing.text import Tokenizer\n",
    "\n",
    "def create_character_tokenizer(list_of_strings):\n",
    "    \"\"\"\n",
    "    This function takes a list of strings as its argument. It should create \n",
    "    and return a Tokenizer according to the above specifications. \n",
    "    \"\"\"\n",
    "    tokenizer = Tokenizer(\n",
    "            num_words=None,\n",
    "            filters=None,\n",
    "            lower=False,\n",
    "            char_level=True)\n",
    "    \n",
    "    tokenizer.fit_on_texts(list_of_strings)\n",
    "\n",
    "    return tokenizer\n",
    "    "
   ]
  },
  {
   "cell_type": "code",
   "execution_count": 8,
   "metadata": {
    "id": "aKZpIcn_RfSf"
   },
   "outputs": [],
   "source": [
    "# Get the tokenizer\n",
    "\n",
    "tokenizer = create_character_tokenizer(text_chunks)"
   ]
  },
  {
   "cell_type": "code",
   "execution_count": 9,
   "metadata": {
    "colab": {
     "base_uri": "https://localhost:8080/"
    },
    "id": "PHlkmCq7ii6A",
    "outputId": "8e3616dd-2da5-48c4-8943-aa0e83b0c55f"
   },
   "outputs": [
    {
     "data": {
      "text/plain": [
       "{'num_words': None,\n",
       " 'filters': None,\n",
       " 'lower': False,\n",
       " 'split': ' ',\n",
       " 'char_level': True,\n",
       " 'oov_token': None,\n",
       " 'document_count': 0,\n",
       " 'word_counts': '{}',\n",
       " 'word_docs': '{}',\n",
       " 'index_docs': '{}',\n",
       " 'index_word': '{}',\n",
       " 'word_index': '{}'}"
      ]
     },
     "execution_count": 9,
     "metadata": {},
     "output_type": "execute_result"
    }
   ],
   "source": [
    "tokenizer.get_config()"
   ]
  },
  {
   "cell_type": "markdown",
   "metadata": {
    "id": "gWObVg6DRfSi"
   },
   "source": [
    "#### Tokenize the text\n",
    "\n",
    "You should now write a function to use the tokenizer to map each string in `text_chunks` to its corresponding encoded sequence. The following function takes a fitted `Tokenizer` object in the first argument (as returned by `create_character_tokenizer`) and a list of strings in the second argument. The function should return a list of lists, where each sublist is a sequence of integer tokens encoding the text sequences according to the mapping stored in the tokenizer.\n",
    "\n",
    "**Hint:** you may need to refer to the [documentation](https://www.tensorflow.org/api_docs/python/tf/keras/preprocessing/text/Tokenizer) for the `Tokenizer`."
   ]
  },
  {
   "cell_type": "code",
   "execution_count": 10,
   "metadata": {
    "id": "lkKDCvV1RfSj"
   },
   "outputs": [],
   "source": [
    "#### GRADED CELL ####\n",
    "\n",
    "# Complete the following function.\n",
    "# Make sure not to change the function name or arguments.\n",
    "\n",
    "def strings_to_sequences(tokenizer, list_of_strings):\n",
    "    \"\"\"\n",
    "    This function takes a tokenizer object and a list of strings as its arguments.\n",
    "    It should use the tokenizer to map the text chunks to sequences of tokens and\n",
    "    then return this list of encoded sequences.\n",
    "    \"\"\"\n",
    "    tokenizer.fit_on_texts(list_of_strings)\n",
    "\n",
    "    return tokenizer.texts_to_sequences(list_of_strings)\n",
    "\n",
    "    "
   ]
  },
  {
   "cell_type": "code",
   "execution_count": 11,
   "metadata": {
    "colab": {
     "base_uri": "https://localhost:8080/"
    },
    "id": "CH2sFeF_jibw",
    "outputId": "d29721ca-d3d5-4aca-a5f8-a9f82fdd96a7"
   },
   "outputs": [
    {
     "data": {
      "text/plain": [
       "dict_keys(['num_words', 'filters', 'lower', 'split', 'char_level', 'oov_token', 'document_count', 'word_counts', 'word_docs', 'index_docs', 'index_word', 'word_index'])"
      ]
     },
     "execution_count": 11,
     "metadata": {},
     "output_type": "execute_result"
    }
   ],
   "source": [
    "tokenizer.get_config().keys()"
   ]
  },
  {
   "cell_type": "code",
   "execution_count": 12,
   "metadata": {
    "id": "hhYb2mSlRfSo"
   },
   "outputs": [],
   "source": [
    "# Encode the text chunks into tokens\n",
    "\n",
    "seq_chunks = strings_to_sequences(tokenizer, text_chunks)"
   ]
  },
  {
   "cell_type": "markdown",
   "metadata": {
    "id": "iRCN70xkRfSt"
   },
   "source": [
    "#### Pad the encoded sequences and store them in a numpy array"
   ]
  },
  {
   "cell_type": "markdown",
   "metadata": {
    "id": "3ucADRYoRfSu"
   },
   "source": [
    "Since not all of the text chunks are the same length, you will need to pad them in order to train on batches. You should now complete the following function, which takes the list of lists of tokens, and creates a single numpy array with the token sequences in the rows, according to the following specification:\n",
    "\n",
    "* The longest allowed sequence should be 500 tokens. Any sequence that is longer should be shortened by truncating the beginning of the sequence.\n",
    "* Use zeros for padding the sequences. The zero padding should be placed before the sequences as required.\n",
    "\n",
    "The function should then return the resulting numpy array.\n",
    "\n",
    "**Hint:** you may want to refer to the [documentation](https://www.tensorflow.org/api_docs/python/tf/keras/preprocessing/sequence/pad_sequences) for the `pad_sequences` function."
   ]
  },
  {
   "cell_type": "code",
   "execution_count": 13,
   "metadata": {
    "id": "6B-meOf3uC_5"
   },
   "outputs": [],
   "source": [
    "from tensorflow.keras.preprocessing.sequence import pad_sequences"
   ]
  },
  {
   "cell_type": "code",
   "execution_count": 14,
   "metadata": {
    "id": "zLf-9KxWRfSw"
   },
   "outputs": [],
   "source": [
    "#### GRADED CELL ####\n",
    "\n",
    "# Complete the following function.\n",
    "# Make sure not to change the function name or arguments.\n",
    "\n",
    "def make_padded_dataset(sequence_chunks):\n",
    "    \"\"\"\n",
    "    This function takes a list of lists of tokenized sequences, and transforms\n",
    "    them into a 2D numpy array, padding the sequences as necessary according to\n",
    "    the above specification. The function should then return the numpy array.\n",
    "    \"\"\"\n",
    "    padded_sequence = tf.keras.preprocessing.sequence.pad_sequences(sequence_chunks,\n",
    "                                    maxlen=500,\n",
    "                                    padding='pre',\n",
    "                                    truncating='pre',\n",
    "                                    value=0)\n",
    "    \n",
    "    return padded_sequence\n",
    "    "
   ]
  },
  {
   "cell_type": "code",
   "execution_count": 15,
   "metadata": {
    "id": "IKB26MgJRfS0"
   },
   "outputs": [],
   "source": [
    "# Pad the token sequence chunks and get the numpy array\n",
    "\n",
    "padded_sequences = make_padded_dataset(seq_chunks)"
   ]
  },
  {
   "cell_type": "markdown",
   "metadata": {
    "id": "U-4W2iICRfS3"
   },
   "source": [
    "#### Create model inputs and targets\n",
    "\n",
    "Now you are ready to build your RNN model. The model will receive a sequence of characters and predict the next character in the sequence. At training time, the model can be passed an input sequence, with the target sequence is shifted by one.\n",
    "\n",
    "For example, the expression `To be or not to be` appears in Shakespeare's play 'Hamlet'. Given input `To be or not to b`, the correct prediction is `o be or not to be`. Notice that the prediction is the same length as the input!\n",
    "\n",
    "![sequence_prediction_example](data/rnn_example.png)\n",
    "\n",
    "You should now write the following function to create an input and target array from the current `padded_sequences` array. The function has a single argument that is a 2D numpy array of shape `(num_examples, max_seq_len)`. It should fulfil the following specification:\n",
    "\n",
    "* The function should return an input array and an output array, both of size `(num_examples, max_seq_len - 1)`.\n",
    "* The input array should contain the first `max_seq_len - 1` tokens of each sequence. \n",
    "* The output array should contain the last `max_seq_len - 1` tokens of each sequence. \n",
    "\n",
    "The function should then return the tuple `(input_array, output_array)`. Note that it is possible to complete this function using numpy indexing alone!"
   ]
  },
  {
   "cell_type": "code",
   "execution_count": 16,
   "metadata": {
    "id": "pzLY5mT3RfS5"
   },
   "outputs": [],
   "source": [
    "#### GRADED CELL ####\n",
    "\n",
    "# Complete the following function.\n",
    "# Make sure not to change the function name or arguments.\n",
    "\n",
    "def create_inputs_and_targets(array_of_sequences):\n",
    "    \"\"\"\n",
    "    This function takes a 2D numpy array of token sequences, and returns a tuple of two\n",
    "    elements: the first element is the input array and the second element is the output\n",
    "    array, which are defined according to the above specification.\n",
    "    \"\"\"   \n",
    "    inputs = array_of_sequences[:, :-1]\n",
    "    targets = array_of_sequences[:, 1:]\n",
    "\n",
    "    return inputs, targets\n",
    "    \n",
    "    "
   ]
  },
  {
   "cell_type": "code",
   "execution_count": 17,
   "metadata": {
    "id": "MzHXg9HcRfTB"
   },
   "outputs": [],
   "source": [
    "# Create the input and output arrays\n",
    "\n",
    "input_seq, target_seq = create_inputs_and_targets(padded_sequences)"
   ]
  },
  {
   "cell_type": "code",
   "execution_count": 18,
   "metadata": {
    "colab": {
     "base_uri": "https://localhost:8080/"
    },
    "id": "dudC0iDDwhNv",
    "outputId": "ae31f167-ba82-4be6-ff2f-9f7aa8b0fe99"
   },
   "outputs": [
    {
     "name": "stdout",
     "output_type": "stream",
     "text": [
      "(7886, 499)\n",
      "(7886, 499)\n",
      "[ 1  7 24  2  5]\n",
      "[ 1  7 24  2  5 28]\n"
     ]
    }
   ],
   "source": [
    "print(input_seq.shape)\n",
    "print(target_seq.shape)\n",
    "print(input_seq[0, -5:])\n",
    "print(target_seq[0, -6:])"
   ]
  },
  {
   "cell_type": "markdown",
   "metadata": {
    "id": "YFTEK7hnRfTJ"
   },
   "source": [
    "#### Preprocess sequence array for stateful RNN\n",
    "\n",
    "We will build our RNN language model to be stateful, so that the internal state of the RNN will be maintained across batches. For this to be effective, we need to make sure that each element of every batch follows on from the corresponding element of the preceding batch (you may want to look back at the \"Stateful RNNs\" reading notebook earlier in the week).\n",
    "\n",
    "The following code processes the input and output sequence arrays so that they are ready to be split into batches for training a stateful RNN, by re-ordering the sequence examples (the rows) according to a specified batch size. "
   ]
  },
  {
   "cell_type": "code",
   "execution_count": 19,
   "metadata": {
    "id": "S4gsVamxRfTK"
   },
   "outputs": [],
   "source": [
    "# Fix the batch size for training\n",
    "\n",
    "batch_size = 32"
   ]
  },
  {
   "cell_type": "code",
   "execution_count": 20,
   "metadata": {
    "id": "cJu9VgWFRfTP"
   },
   "outputs": [],
   "source": [
    "# Prepare input and output arrays for training the stateful RNN\n",
    "\n",
    "num_examples = input_seq.shape[0]\n",
    "\n",
    "num_processed_examples = num_examples - (num_examples % batch_size)\n",
    "\n",
    "input_seq = input_seq[:num_processed_examples]\n",
    "target_seq = target_seq[:num_processed_examples]\n",
    "\n",
    "steps = int(num_processed_examples / 32)  # steps per epoch\n",
    "\n",
    "inx = np.empty((0,), dtype=np.int32)\n",
    "for i in range(steps):\n",
    "    inx = np.concatenate((inx, i + np.arange(0, num_processed_examples, steps)))\n",
    "\n",
    "input_seq_stateful = input_seq[inx]\n",
    "target_seq_stateful = target_seq[inx]"
   ]
  },
  {
   "cell_type": "markdown",
   "metadata": {
    "id": "Rm8gNoNJRfTT"
   },
   "source": [
    "#### Split the data into training and validation sets\n",
    "\n",
    "We will set aside approximately 20% of the data for validation."
   ]
  },
  {
   "cell_type": "code",
   "execution_count": 21,
   "metadata": {
    "id": "iiLWfyemRfTU"
   },
   "outputs": [],
   "source": [
    "# Create the training and validation splits\n",
    "\n",
    "num_train_examples = int(batch_size * ((0.8 * num_processed_examples) // batch_size))\n",
    "\n",
    "input_train  = input_seq_stateful[:num_train_examples]\n",
    "target_train = target_seq_stateful[:num_train_examples]\n",
    "\n",
    "input_valid  = input_seq_stateful[num_train_examples:]\n",
    "target_valid = target_seq_stateful[num_train_examples:]"
   ]
  },
  {
   "cell_type": "markdown",
   "metadata": {
    "id": "FQ_mAEoPRfTX"
   },
   "source": [
    "#### Create training and validation Dataset objects\n",
    "\n",
    "You should now write a function to take the training and validation input and target arrays, and create training and validation `tf.data.Dataset` objects. The function takes an input array and target array in the first two arguments, and the batch size in the third argument. Your function should do the following:\n",
    "\n",
    "* Create a `Dataset` using the `from_tensor_slices` static method, passing in a tuple of the input and output numpy arrays.\n",
    "* Batch the `Dataset` using the `batch_size` argument, setting `drop_remainder` to `True`. \n",
    "\n",
    "The function should then return the `Dataset` object."
   ]
  },
  {
   "cell_type": "code",
   "execution_count": 22,
   "metadata": {
    "id": "jfHvFZq0xmzg"
   },
   "outputs": [],
   "source": [
    "from tensorflow.data import Dataset"
   ]
  },
  {
   "cell_type": "code",
   "execution_count": 23,
   "metadata": {
    "id": "_DJAjEHKRfTY"
   },
   "outputs": [],
   "source": [
    "#### GRADED CELL ####\n",
    "\n",
    "# Complete the following function.\n",
    "# Make sure not to change the function name or arguments.\n",
    "\n",
    "def make_Dataset(input_array, target_array, batch_size):\n",
    "    \"\"\"\n",
    "    This function takes two 2D numpy arrays in the first two arguments, and an integer\n",
    "    batch_size in the third argument. It should create and return a Dataset object \n",
    "    using the two numpy arrays and batch size according to the above specification.\n",
    "    \"\"\"\n",
    "    dataset = tf.data.Dataset.from_tensor_slices((input_array, target_array)).batch(batch_size, drop_remainder=True)\n",
    "\n",
    "    return dataset\n",
    "    "
   ]
  },
  {
   "cell_type": "code",
   "execution_count": 24,
   "metadata": {
    "id": "rzqK_qVARfTc"
   },
   "outputs": [],
   "source": [
    "# Create the training and validation Datasets\n",
    "\n",
    "train_data = make_Dataset(input_train, target_train, batch_size)\n",
    "valid_data = make_Dataset(input_valid, target_valid, batch_size)"
   ]
  },
  {
   "cell_type": "markdown",
   "metadata": {
    "id": "IKfaWcCCRfTf"
   },
   "source": [
    "#### Build the recurrent neural network model"
   ]
  },
  {
   "cell_type": "markdown",
   "metadata": {
    "id": "KcPyteqDRfTh"
   },
   "source": [
    "You are now ready to build your RNN character-level language model. You should write the following function to build the model; the function takes arguments for the batch size and vocabulary size (number of tokens). Using the Sequential API, your function should build your model according to the following specifications:\n",
    "\n",
    "* The first layer should be an Embedding layer with an embedding dimension of 256 and set the vocabulary size to `vocab_size` from the function argument.\n",
    "* The Embedding layer should also mask the zero padding in the input sequences.\n",
    "* The Embedding layer should also set the `batch_input_shape` to `(batch_size, None)` (a fixed batch size is required for stateful RNNs).\n",
    "* The next layer should be a (uni-directional) GRU layer with 1024 units, set to be a stateful RNN layer.\n",
    "* The GRU layer should return the full sequence, instead of just the output state at the final time step.\n",
    "* The final layer should be a Dense layer with `vocab_size` units and no activation function.\n",
    "\n",
    "In total, the network should have 3 layers."
   ]
  },
  {
   "cell_type": "code",
   "execution_count": 25,
   "metadata": {
    "id": "R0KU0-B0y6MN"
   },
   "outputs": [],
   "source": [
    "from tensorflow.keras.layers import Embedding, GRU, Dense\n",
    "from tensorflow.keras.models import Sequential"
   ]
  },
  {
   "cell_type": "code",
   "execution_count": 26,
   "metadata": {
    "id": "oauekqOSRfTi"
   },
   "outputs": [],
   "source": [
    "#### GRADED CELL ####\n",
    "\n",
    "# Complete the following function.\n",
    "# Make sure not to change the function name or arguments.\n",
    "\n",
    "def get_model(vocab_size, batch_size):\n",
    "    \"\"\"\n",
    "    This function takes a vocabulary size and batch size, and builds and returns a \n",
    "    Sequential model according to the above specification.\n",
    "    \"\"\"\n",
    "    model = tf.keras.models.Sequential(\n",
    "        [\n",
    "         tf.keras.layers.Embedding(vocab_size, 256, mask_zero=True, batch_input_shape=(batch_size, None)),\n",
    "         tf.keras.layers.GRU(1024, stateful=True, return_sequences=True),\n",
    "         tf.keras.layers.Dense(vocab_size)\n",
    "        ]\n",
    "    )\n",
    "\n",
    "    return model\n",
    "    "
   ]
  },
  {
   "cell_type": "code",
   "execution_count": 27,
   "metadata": {
    "colab": {
     "base_uri": "https://localhost:8080/"
    },
    "id": "AmmEfYo-RfTl",
    "outputId": "62f197bc-add3-47c0-f803-99a292b73cff"
   },
   "outputs": [
    {
     "name": "stdout",
     "output_type": "stream",
     "text": [
      "Model: \"sequential_1\"\n",
      "_________________________________________________________________\n",
      " Layer (type)                Output Shape              Param #   \n",
      "=================================================================\n",
      " embedding_1 (Embedding)     (32, None, 256)           16640     \n",
      "                                                                 \n",
      " gru_1 (GRU)                 (32, None, 1024)          3938304   \n",
      "                                                                 \n",
      " dense_1 (Dense)             (32, None, 65)            66625     \n",
      "                                                                 \n",
      "=================================================================\n",
      "Total params: 4,021,569\n",
      "Trainable params: 4,021,569\n",
      "Non-trainable params: 0\n",
      "_________________________________________________________________\n"
     ]
    }
   ],
   "source": [
    "# Build the model and print the model summary\n",
    "\n",
    "model = get_model(len(tokenizer.word_index) + 1, batch_size)\n",
    "model.summary()"
   ]
  },
  {
   "cell_type": "markdown",
   "metadata": {
    "id": "4PJ4cU0YRfTo"
   },
   "source": [
    "#### Compile and train the model\n",
    "\n",
    "You are now ready to compile and train the model. For this model and dataset, the training time is very long. Therefore for this assignment it is not a requirement to train the model. We have pre-trained a model for you (using the code below) and saved the model weights, which can be loaded to get the model predictions. \n",
    "\n",
    "It is recommended to use accelerator hardware (e.g. using Colab) when training this model. It would also be beneficial to increase the size of the model, e.g. by stacking extra recurrent layers."
   ]
  },
  {
   "cell_type": "code",
   "execution_count": 28,
   "metadata": {
    "id": "JfPCzbRK0p5E"
   },
   "outputs": [],
   "source": [
    "from tensorflow.keras.callbacks import ModelCheckpoint\n",
    "from tensorflow.keras.losses import SparseCategoricalCrossentropy"
   ]
  },
  {
   "cell_type": "code",
   "execution_count": 29,
   "metadata": {
    "id": "62k8AD8eRfTp"
   },
   "outputs": [],
   "source": [
    "# Choose whether to train a new model or load the pre-trained model\n",
    "\n",
    "skip_training = True"
   ]
  },
  {
   "cell_type": "code",
   "execution_count": 30,
   "metadata": {
    "id": "DJhnIUHSRfTt"
   },
   "outputs": [],
   "source": [
    "# Compile and train the model, or load pre-trained weights\n",
    "\n",
    "if not skip_training:\n",
    "    checkpoint_callback = ModelCheckpoint(filepath='./models/ckpt',\n",
    "                                            save_weights_only=True,\n",
    "                                            save_best_only=True)\n",
    "    model.compile(optimizer='adam', \n",
    "                  loss=SparseCategoricalCrossentropy(from_logits=True),\n",
    "                  metrics=['sparse_categorical_accuracy'])\n",
    "    \n",
    "    history = model.fit(train_data, epochs=15, validation_data=valid_data, \n",
    "                        validation_steps=50, callbacks=[checkpoint_callback])"
   ]
  },
  {
   "cell_type": "code",
   "execution_count": 31,
   "metadata": {
    "id": "yqjTlQyoRfTx"
   },
   "outputs": [],
   "source": [
    "# Save model history as a json file, or load it if using pre-trained weights\n",
    "\n",
    "if not skip_training:\n",
    "    history_dict = dict()\n",
    "    for k, v in history.history.items():\n",
    "        history_dict[k] = [float(val) for val in history.history[k]]\n",
    "    with open('models/history.json', 'w+') as json_file:\n",
    "        json.dump(history_dict, json_file, sort_keys=True, indent=4)\n",
    "else:\n",
    "    with open('models/history.json', 'r') as json_file:\n",
    "        history_dict = json.load(json_file)"
   ]
  },
  {
   "cell_type": "markdown",
   "metadata": {
    "id": "upDpsmf9RfT2"
   },
   "source": [
    "#### Plot the learning curves"
   ]
  },
  {
   "cell_type": "code",
   "execution_count": 32,
   "metadata": {
    "colab": {
     "base_uri": "https://localhost:8080/",
     "height": 338
    },
    "id": "gGpPk5bbRfT3",
    "outputId": "6a72d79c-eb74-4370-81d2-eea4c634690d"
   },
   "outputs": [
    {
     "data": {
      "image/png": "[encoded data removed]",
      "text/plain": [
       "<Figure size 1080x360 with 2 Axes>"
      ]
     },
     "metadata": {
      "needs_background": "light"
     },
     "output_type": "display_data"
    }
   ],
   "source": [
    "# Run this cell to plot accuracy vs epoch and loss vs epoch\n",
    "\n",
    "plt.figure(figsize=(15,5))\n",
    "plt.subplot(121)\n",
    "plt.plot(history_dict['sparse_categorical_accuracy'])\n",
    "plt.plot(history_dict['val_sparse_categorical_accuracy'])\n",
    "plt.title('Accuracy vs. epochs')\n",
    "plt.ylabel('Accuracy')\n",
    "plt.xlabel('Epoch')\n",
    "plt.xticks(np.arange(len(history_dict['sparse_categorical_accuracy'])))\n",
    "ax = plt.gca()\n",
    "ax.set_xticklabels(1 + np.arange(len(history_dict['sparse_categorical_accuracy'])))\n",
    "plt.legend(['Training', 'Validation'], loc='lower right')\n",
    "\n",
    "plt.subplot(122)\n",
    "plt.plot(history_dict['loss'])\n",
    "plt.plot(history_dict['val_loss'])\n",
    "plt.title('Loss vs. epochs')\n",
    "plt.ylabel('Loss')\n",
    "plt.xlabel('Epoch')\n",
    "plt.xticks(np.arange(len(history_dict['sparse_categorical_accuracy'])))\n",
    "ax = plt.gca()\n",
    "ax.set_xticklabels(1 + np.arange(len(history_dict['sparse_categorical_accuracy'])))\n",
    "plt.legend(['Training', 'Validation'], loc='upper right')\n",
    "plt.show() "
   ]
  },
  {
   "cell_type": "markdown",
   "metadata": {
    "id": "2msBeLSoRfT7"
   },
   "source": [
    "#### Write a text generation algorithm\n",
    "\n",
    "You can now use the model to generate text! In order to generate a single text sequence, the model needs to be rebuilt with a batch size of 1."
   ]
  },
  {
   "cell_type": "code",
   "execution_count": 33,
   "metadata": {
    "colab": {
     "base_uri": "https://localhost:8080/"
    },
    "id": "zzQW69qxRfT_",
    "outputId": "c16fb842-8756-4605-dda7-ac453281653f"
   },
   "outputs": [
    {
     "data": {
      "text/plain": [
       "<tensorflow.python.training.tracking.util.CheckpointLoadStatus at 0x7ff0546c4e90>"
      ]
     },
     "execution_count": 33,
     "metadata": {},
     "output_type": "execute_result"
    }
   ],
   "source": [
    "# Re-build the model and load the saved weights\n",
    "\n",
    "model = get_model(len(tokenizer.word_index) + 1, batch_size=1)\n",
    "model.load_weights(tf.train.latest_checkpoint('./models/'))"
   ]
  },
  {
   "cell_type": "markdown",
   "metadata": {
    "id": "TM3LHQAgRfUD"
   },
   "source": [
    "An algorithm to generate text is as follows:\n",
    "\n",
    "1. Specify a seed string (e.g. `'ROMEO:'`) to get the network started, and a define number of characters for the model to generate, `num_generation_steps`.\n",
    "2. Tokenize this sentence to obtain a list containing one list of the integer tokens.\n",
    "3. Reset the initial state of the network. \n",
    "4. Convert the token list into a Tensor (or numpy array) and pass it to your model as a batch of size one.\n",
    "5. Get the model prediction (logits) for the last time step and extract the state of the recurrent layer.\n",
    "6. Use the logits to construct a categorical distribution and sample a token from it.\n",
    "7. Repeat the following for `num_generation_steps - 1` steps:\n",
    "\n",
    "    1. Use the saved state of the recurrent layer and the last sampled token to get new logit predictions\n",
    "    2. Use the logits to construct a new categorical distribution and sample a token from it.\n",
    "    3. Save the updated state of the recurrent layer.    \n",
    "\n",
    "8. Take the final list of tokens and convert to text using the Tokenizer.\n",
    "\n",
    "Note that the internal state of the recurrent layer can be accessed using the `states` property. For the GRU layer, it is a list of one variable:"
   ]
  },
  {
   "cell_type": "code",
   "execution_count": 34,
   "metadata": {
    "colab": {
     "base_uri": "https://localhost:8080/"
    },
    "id": "DDbzdt0LRfUE",
    "outputId": "460d151e-1afa-4178-fcc7-9c189739df6c"
   },
   "outputs": [
    {
     "data": {
      "text/plain": [
       "[<tf.Variable 'gru_3/Variable:0' shape=(1, 1024) dtype=float32, numpy=array([[0., 0., 0., ..., 0., 0., 0.]], dtype=float32)>]"
      ]
     },
     "execution_count": 34,
     "metadata": {},
     "output_type": "execute_result"
    }
   ],
   "source": [
    "# Inspect the model's current recurrent state\n",
    "\n",
    "model.layers[1].states"
   ]
  },
  {
   "cell_type": "markdown",
   "metadata": {
    "id": "2KvmtkvrRfUI"
   },
   "source": [
    "We will break the algorithm down into two steps. First, you should now complete the following function that takes a sequence of tokens of any length and returns the model's prediction (the logits) for the last time step. The specification is as follows:\n",
    "\n",
    "* The token sequence will be a python list, containing one list of integer tokens, e.g. `[[1, 2, 3, 4]]`\n",
    "* The function should convert the list into a 2D Tensor or numpy array\n",
    "* If the function argument `initial_state` is `None`, then the function should reset the state of the recurrent layer to zeros.\n",
    "* Otherwise, if the function argument `initial_state` is a 2D Tensor or numpy array, assign the value of the internal state of the GRU layer to this argument.\n",
    "* Get the model's prediction (logits) for the last time step only.\n",
    "\n",
    "The function should then return the logits as a 2D numpy array, where the first dimension is equal to 1 (batch size).\n",
    "\n",
    "**Hint:** the internal state of the recurrent can be reset to zeros using the `reset_states` method."
   ]
  },
  {
   "cell_type": "code",
   "execution_count": 35,
   "metadata": {
    "id": "3aHg6y44RfUJ"
   },
   "outputs": [],
   "source": [
    "#### GRADED CELL ####\n",
    "\n",
    "# Complete the following function.\n",
    "# Make sure not to change the function name or arguments.\n",
    "\n",
    "def get_logits(model, token_sequence, initial_state=None):\n",
    "    \"\"\"\n",
    "    This function takes a model object, a token sequence and an optional initial\n",
    "    state for the recurrent layer. The function should return the logits prediction\n",
    "    for the final time step as a 2D numpy array.\n",
    "    \"\"\"\n",
    "\n",
    "    if initial_state is None:\n",
    "        model.layers[1].reset_states()\n",
    "    else:\n",
    "        model.layers[1].reset_states(states=initial_state)\n",
    "\n",
    "    token_sequence = np.array(token_sequence)\n",
    "    prediction = model.predict(token_sequence)\n",
    "    \n",
    "    # print(prediction.shape) # (1, 4, 65)\n",
    "\n",
    "    prediction = prediction[0:, -1, :]\n",
    "\n",
    "    # print(prediction.shape) # (1, 65)\n",
    "\n",
    "    return prediction\n",
    "    \n",
    "    "
   ]
  },
  {
   "cell_type": "code",
   "execution_count": 36,
   "metadata": {
    "id": "9FZu41Ko0Djm"
   },
   "outputs": [],
   "source": [
    "# len(json.loads(tokenizer.get_config()['index_word']).items()) # 64"
   ]
  },
  {
   "cell_type": "code",
   "execution_count": 37,
   "metadata": {
    "colab": {
     "base_uri": "https://localhost:8080/"
    },
    "id": "La2CNRzqRfUN",
    "outputId": "a0393ecb-d02e-4c2f-e7ed-37806d0dfb66"
   },
   "outputs": [
    {
     "data": {
      "text/plain": [
       "array([[-4.560111  ,  5.209779  ,  0.8331542 ,  0.7440171 ,  1.8193657 ,\n",
       "        -2.7234612 , -5.0775647 ,  4.5412874 ,  7.36358   ,  4.059416  ,\n",
       "         0.32168162,  3.3655567 ,  5.3512774 ,  2.7416956 ,  3.4278429 ,\n",
       "         6.8426175 , -2.6836638 ,  4.4330235 ,  0.74913263,  1.3307036 ,\n",
       "         2.8553565 , -2.7838616 , -8.60764   ,  0.0530536 ,  4.9115505 ,\n",
       "         1.8064709 , -7.2380567 , -2.269105  , -1.574571  , -5.584577  ,\n",
       "         3.5734925 , -7.4010844 , -9.348143  , -2.7735534 , -3.5381663 ,\n",
       "        -3.908228  , -2.4996483 , -7.743702  ,  2.1263652 , -3.6043305 ,\n",
       "        -7.8297205 , -7.1223817 , -5.836834  , -5.468105  ,  2.8663223 ,\n",
       "        -5.5667086 ,  3.0165777 , -7.576891  ,  1.0993279 , -6.123051  ,\n",
       "        -6.8883247 , -2.2747922 , -9.095729  , -9.081909  , -5.8239627 ,\n",
       "        -0.96869624, -1.1982188 , -2.3561087 , -6.158147  , -5.990674  ,\n",
       "        -4.0853324 , -4.056099  , -5.6425266 , -7.8221726 , -5.2182865 ]],\n",
       "      dtype=float32)"
      ]
     },
     "execution_count": 37,
     "metadata": {},
     "output_type": "execute_result"
    }
   ],
   "source": [
    "# Test the get_logits function by passing a dummy token sequence\n",
    "\n",
    "dummy_initial_state = tf.random.normal(model.layers[1].states[0].shape)\n",
    "get_logits(model, [[1, 2, 3, 4]], initial_state=dummy_initial_state)"
   ]
  },
  {
   "cell_type": "markdown",
   "metadata": {
    "id": "KcMB8Yv5RfUQ"
   },
   "source": [
    "You should now write a function that takes a logits prediction similar to the above, uses it to create a categorical distribution, and samples a token from this distribution. The following function takes a 2D numpy array `logits` as an argument, and should return a single integer prediction that is sampled from the categorical distribution. \n",
    "\n",
    "**Hint:** you might find the `tf.random.categorical` function useful for this; see the documentation [here](https://www.tensorflow.org/api_docs/python/tf/random/categorical)."
   ]
  },
  {
   "cell_type": "code",
   "execution_count": 38,
   "metadata": {
    "id": "LObVBMdzRfUS"
   },
   "outputs": [],
   "source": [
    "#### GRADED CELL ####\n",
    "\n",
    "# Complete the following function.\n",
    "# Make sure not to change the function name or arguments.\n",
    "\n",
    "def sample_token(logits):\n",
    "    \"\"\"\n",
    "    This function takes a 2D numpy array as an input, and constructs a \n",
    "    categorical distribution using it. It should then sample from this\n",
    "    distribution and return the sample as a single integer.\n",
    "    \"\"\"\n",
    "    sample = tf.random.categorical(logits, 1)\n",
    "    sample = int(sample)\n",
    "\n",
    "    return sample\n",
    "    "
   ]
  },
  {
   "cell_type": "code",
   "execution_count": 39,
   "metadata": {
    "colab": {
     "base_uri": "https://localhost:8080/"
    },
    "id": "MrgPsuOYRfUV",
    "outputId": "07f6f6bf-c886-44ea-e03b-f0f3537ff529"
   },
   "outputs": [
    {
     "data": {
      "text/plain": [
       "9"
      ]
     },
     "execution_count": 39,
     "metadata": {},
     "output_type": "execute_result"
    }
   ],
   "source": [
    "# Test the sample_token function by passing dummy logits\n",
    "\n",
    "dummy_initial_state = tf.random.normal(model.layers[1].states[0].shape)\n",
    "dummy_logits = get_logits(model, [[1, 2, 3, 4]], initial_state=dummy_initial_state)\n",
    "sample_token(dummy_logits)"
   ]
  },
  {
   "cell_type": "code",
   "execution_count": 40,
   "metadata": {
    "colab": {
     "base_uri": "https://localhost:8080/"
    },
    "id": "Q23e4MNpRfUY",
    "outputId": "fdec6f05-d858-4123-ca4e-ae6adb6b3f07"
   },
   "outputs": [
    {
     "name": "stdout",
     "output_type": "stream",
     "text": [
      "30 17\n"
     ]
    },
    {
     "data": {
      "text/plain": [
       "True"
      ]
     },
     "execution_count": 40,
     "metadata": {},
     "output_type": "execute_result"
    }
   ],
   "source": [
    "logits_size = dummy_logits.shape[1]\n",
    "dummy_logits = -np.inf*np.ones((1, logits_size))\n",
    "dummy_logits[0, 20] = 0\n",
    "sample_token(dummy_logits)\n",
    "random_inx = np.random.choice(logits_size, 2, replace=False)\n",
    "random_inx1, random_inx2 = random_inx[0], random_inx[1]\n",
    "print(random_inx1, random_inx2)\n",
    "dummy_logits = -np.inf*np.ones((1, logits_size))\n",
    "dummy_logits[0, random_inx1] = 0\n",
    "dummy_logits[0, random_inx2] = 0\n",
    "sampled_token = []\n",
    "for _ in range(100):\n",
    "    sampled_token.append(sample_token(dummy_logits))\n",
    "    \n",
    "l_tokens, l_counts = np.unique(np.array(sampled_token), return_counts=True)\n",
    "len(l_tokens) == 2"
   ]
  },
  {
   "cell_type": "markdown",
   "metadata": {
    "id": "7A0FOxOTRfUc"
   },
   "source": [
    "#### Generate text from the model\n",
    "\n",
    "You are now ready to generate text from the model!"
   ]
  },
  {
   "cell_type": "code",
   "execution_count": 41,
   "metadata": {
    "id": "KgXNTiaYRfUd"
   },
   "outputs": [],
   "source": [
    "# Create a seed string and number of generation steps\n",
    "\n",
    "init_string = 'ROMEO:'\n",
    "num_generation_steps = 1000"
   ]
  },
  {
   "cell_type": "code",
   "execution_count": 42,
   "metadata": {
    "colab": {
     "base_uri": "https://localhost:8080/"
    },
    "id": "6jm4JeyyRfUf",
    "outputId": "a18c1739-a91d-42e7-ff2a-9ed00d0559b4"
   },
   "outputs": [
    {
     "name": "stdout",
     "output_type": "stream",
     "text": [
      "ROMEO:\n",
      "Cambior downt thy sea, one newred how\n",
      "Thy match casings could fear in princely\n",
      "Belonght, with death and waver me some,\n",
      "He tenders out o' the tongue the deal of green\n",
      "Atsence as Dothink he was' their love--\n",
      "Banish resolve my lanys shall adian? I, bear\n",
      "Stand, I peside consurer then my fones\n",
      "Win the friends or no, I cannot master\n",
      "Shall, know by the set down harse you, pray: my face;\n",
      "That's a man,--not but thy beauty on the power frath\n",
      "Bettind the city's discertious lord,\n",
      "Self abselves for an expistimony\n",
      "his own pawn, then vantaget lawful loy me\n",
      "\n",
      "RIMES:\n",
      "One things me so do be sworn;\n",
      "Which, good marriage, I desire to him:\n",
      "Go holdeth e'bry's gentleman, we make not yet\n",
      "Did o'er-widded ear, that is deaf; and all which he\n",
      "A pardon of my found with thy inclined,\n",
      "Like his double, forward, so desert, man,\n",
      "And man that resent desire the breath only or,\n",
      "That we will seem the land and yet a nest,\n",
      "And thrive and pwares of beauty cassingly,\n",
      "And unfie the hadden, etending in thy weant; we may him to-th\n"
     ]
    }
   ],
   "source": [
    "# Use the model to generate a token sequence\n",
    "\n",
    "token_sequence = tokenizer.texts_to_sequences([init_string])\n",
    "initial_state = None\n",
    "input_sequence = token_sequence\n",
    "\n",
    "for _ in range(num_generation_steps):\n",
    "    print(_, end='\\r')\n",
    "    logits = get_logits(model, input_sequence, initial_state=initial_state)\n",
    "    sampled_token = sample_token(logits)\n",
    "    token_sequence[0].append(sampled_token)\n",
    "    input_sequence = [[sampled_token]]\n",
    "    initial_state = model.layers[1].states[0].numpy()\n",
    "    \n",
    "print(tokenizer.sequences_to_texts(token_sequence)[0][::2])"
   ]
  },
  {
   "cell_type": "markdown",
   "metadata": {
    "id": "O9mUfLUyRfUl"
   },
   "source": [
    "Congratulations for completing this programming assignment! In the next week of the course we will see how to build customised models and layers, and make custom training loops."
   ]
  }
 ],
 "metadata": {
  "accelerator": "GPU",
  "colab": {
   "collapsed_sections": [
    "gWObVg6DRfSi",
    "iRCN70xkRfSt",
    "U-4W2iICRfS3",
    "YFTEK7hnRfTJ",
    "Rm8gNoNJRfTT",
    "FQ_mAEoPRfTX",
    "IKfaWcCCRfTf",
    "4PJ4cU0YRfTo",
    "upDpsmf9RfT2",
    "2msBeLSoRfT7",
    "7A0FOxOTRfUc"
   ],
   "name": "Copy of Week 3 Programming Assignment.ipynb",
   "provenance": []
  },
  "coursera": {
   "course_slug": "tensor-flow-2-2",
   "graded_item_id": "4eYSM",
   "launcher_item_id": "HEV6h"
  },
  "gpuClass": "standard",
  "kernelspec": {
   "display_name": "Python 3 (ipykernel)",
   "language": "python",
   "name": "python3"
  },
  "language_info": {
   "codemirror_mode": {
    "name": "ipython",
    "version": 3
   },
   "file_extension": ".py",
   "mimetype": "text/x-python",
   "name": "python",
   "nbconvert_exporter": "python",
   "pygments_lexer": "ipython3",
   "version": "3.9.6"
  }
 },
 "nbformat": 4,
 "nbformat_minor": 1
}
